{
 "cells": [
  {
   "cell_type": "markdown",
   "metadata": {},
   "source": [
    "STEPS AND CHALLENGES"
   ]
  },
  {
   "cell_type": "markdown",
   "metadata": {},
   "source": [
    "1) INSTALLED ANACONDA - This process was absolutely simple to accomplish\n",
    "2) DOWNLOAD AND RUN THE GIT COMMAND SOFTWARE - I think this automatically requested to be installed after I installed anaconda but I wasn't really sure what exactly it was so I installed another git line command :git-2.14.1-intel-universal-mavericks.pkg from https://git-scm.com/download/mac\n",
    "3) LAUNCHING THE GIT BASH - Using the git command was a little tricky/confusing becuase I assumed it would be a seprate application but it turns out to be the regular mac terminal application. So I ran my git commands from the terminal.\n",
    "4) SIGNING UP FOR GITHUB, CREATING A REPOSITORY AND A FOLDER IN THE REPOSITORY - This task was really easy to understand, I watched a couple of Github tutorials and used the Github Slideshow Robot to get familiar with the github space and understand a couple of the terms frequently used.\n",
    "5) LAUNCHING JUPYTER NOTEBOOK THROUGH ANACONDA- After this, I opened the file I cloned from my repository, created an ipynb file within it and pushed it into my git up repository using git commands on terminal. The Steps and challenges were further committed with the appropraite git command into my github repository ."
   ]
  }
 ],
 "metadata": {
  "kernelspec": {
   "display_name": "Python 3",
   "language": "python",
   "name": "python3"
  },
  "language_info": {
   "codemirror_mode": {
    "name": "ipython",
    "version": 3
   },
   "file_extension": ".py",
   "mimetype": "text/x-python",
   "name": "python",
   "nbconvert_exporter": "python",
   "pygments_lexer": "ipython3",
   "version": "3.8.5"
  }
 },
 "nbformat": 4,
 "nbformat_minor": 4
}
